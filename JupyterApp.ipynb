{
 "cells": [
  {
   "cell_type": "code",
   "execution_count": 2,
   "id": "8834c332",
   "metadata": {},
   "outputs": [
    {
     "name": "stderr",
     "output_type": "stream",
     "text": [
      "[nltk_data] Downloading package stopwords to\n",
      "[nltk_data]     C:\\Users\\sujal\\AppData\\Roaming\\nltk_data...\n",
      "[nltk_data]   Package stopwords is already up-to-date!\n"
     ]
    }
   ],
   "source": [
    "\n",
    "import pandas as pd\n",
    "import re\n",
    "import nltk\n",
    "import matplotlib.pyplot as plt\n",
    "import seaborn as sns\n",
    "from nltk.corpus import stopwords\n",
    "from sklearn.model_selection import train_test_split\n",
    "from sklearn.feature_extraction.text import CountVectorizer\n",
    "from sklearn.linear_model import LogisticRegression\n",
    "from sklearn.metrics import classification_report, accuracy_score, confusion_matrix\n",
    "from textblob import TextBlob  # Simple sentiment analysis tool\n",
    "\n",
    "# Download NLTK stopwords\n",
    "nltk.download('stopwords')\n",
    "stop_words = set(stopwords.words('english'))"
   ]
  },
  {
   "cell_type": "code",
   "execution_count": 3,
   "id": "8a01e5e1",
   "metadata": {},
   "outputs": [
    {
     "name": "stdout",
     "output_type": "stream",
     "text": [
      "\n",
      "Loading datasets...\n",
      "✅ Datasets loaded and combined. Total rows: 314092\n"
     ]
    }
   ],
   "source": [
    "\n",
    "# -------- Load and Combine Datasets -------- #\n",
    "print(\"\\nLoading datasets...\")\n",
    "df1 = pd.read_csv(\"tweets/data_analysis.csv\", low_memory=False)\n",
    "df2 = pd.read_csv(\"tweets/data_science.csv\", low_memory=False)\n",
    "df3 = pd.read_csv(\"tweets/data_visualization.csv\", low_memory=False)\n",
    "\n",
    "df = pd.concat([df1, df2, df3], ignore_index=True)\n",
    "print(\"✅ Datasets loaded and combined. Total rows:\", df.shape[0])\n"
   ]
  },
  {
   "cell_type": "code",
   "execution_count": 4,
   "id": "25d3b6e2",
   "metadata": {},
   "outputs": [
    {
     "name": "stdout",
     "output_type": "stream",
     "text": [
      "\n",
      "Available columns: ['id', 'conversation_id', 'created_at', 'date', 'time', 'timezone', 'user_id', 'username', 'name', 'place', 'tweet', 'language', 'mentions', 'urls', 'photos', 'replies_count', 'retweets_count', 'likes_count', 'hashtags', 'cashtags', 'link', 'retweet', 'quote_url', 'video', 'thumbnail', 'near', 'geo', 'source', 'user_rt_id', 'user_rt', 'retweet_id', 'reply_to', 'retweet_date', 'translate', 'trans_src', 'trans_dest']\n",
      "✅ Renamed 'tweet' column to 'text'.\n"
     ]
    }
   ],
   "source": [
    "# -------- Inspect Columns -------- #\n",
    "print(\"\\nAvailable columns:\", df.columns.tolist())\n",
    "\n",
    "# Rename 'tweet' to 'text' if available\n",
    "if 'tweet' in df.columns:\n",
    "    df.rename(columns={'tweet': 'text'}, inplace=True)\n",
    "    print(\"✅ Renamed 'tweet' column to 'text'.\")\n"
   ]
  },
  {
   "cell_type": "code",
   "execution_count": 5,
   "id": "87dabcf5",
   "metadata": {},
   "outputs": [
    {
     "name": "stdout",
     "output_type": "stream",
     "text": [
      "\n",
      "Assigning sentiment using TextBlob...\n",
      "✅ Sentiment assigned based on polarity.\n",
      "\n",
      "Sample labeled data:\n",
      "                                                text sentiment\n",
      "0  Join @SPJ_IC at 6 p.m. EDT Tuesday for the nex...  negative\n",
      "1  READ: Resilience, hard work, and perseverance ...  negative\n",
      "2  How will the shift to streaming impact movie-m...  positive\n",
      "3  (2/2) to gain the aptitude to find better solu...  positive\n",
      "4  Alexander Lukashenko is still in power in Bela...  negative\n"
     ]
    }
   ],
   "source": [
    "# -------- Assign Sentiment Labels -------- #\n",
    "print(\"\\nAssigning sentiment using TextBlob...\")\n",
    "df['sentiment'] = df['text'].apply(lambda x: 'positive' if TextBlob(str(x)).sentiment.polarity > 0 else 'negative')\n",
    "print(\"✅ Sentiment assigned based on polarity.\")\n",
    "\n",
    "# Show sample rows\n",
    "print(\"\\nSample labeled data:\")\n",
    "print(df[['text', 'sentiment']].head(5))\n"
   ]
  },
  {
   "cell_type": "code",
   "execution_count": 7,
   "id": "5125ec1b",
   "metadata": {},
   "outputs": [
    {
     "name": "stdout",
     "output_type": "stream",
     "text": [
      "\n",
      "Cleaning text...\n",
      "✅ Text cleaned.\n",
      "\n",
      "Sample cleaned text:\n",
      "                                          clean_text\n",
      "0  join pm edt tuesday next ictalk created code b...\n",
      "1  read resilience hard work perseverance paid ge...\n",
      "2  shift streaming impact moviemaking interesting...\n",
      "3  gain aptitude find better solutions realworld ...\n",
      "4  alexander lukashenko still power belarus despi...\n"
     ]
    }
   ],
   "source": [
    "# -------- Clean and Filter Data -------- #\n",
    "print(\"\\nCleaning text...\")\n",
    "df = df[['text', 'sentiment']].dropna()\n",
    "\n",
    "def clean_text(text):\n",
    "    text = text.lower()\n",
    "    text = re.sub(r\"http\\S+|www\\S+|https\\S+\", '', text)\n",
    "    text = re.sub(r'\\@\\w+|\\#', '', text)\n",
    "    text = re.sub(r'[^A-Za-z\\s]', '', text)\n",
    "    tokens = text.split()\n",
    "    tokens = [word for word in tokens if word not in stop_words]\n",
    "    return \" \".join(tokens)\n",
    "\n",
    "df['clean_text'] = df['text'].apply(clean_text)\n",
    "print(\"✅ Text cleaned.\")\n",
    "\n",
    "# Show cleaned sample\n",
    "print(\"\\nSample cleaned text:\")\n",
    "print(df[['clean_text']].head(5))\n"
   ]
  },
  {
   "cell_type": "code",
   "execution_count": 8,
   "id": "2ad53749",
   "metadata": {},
   "outputs": [
    {
     "name": "stdout",
     "output_type": "stream",
     "text": [
      "\n",
      "Encoding sentiment labels...\n",
      "✅ Labels encoded: 1 for Positive, 0 for Negative\n",
      "\n",
      "Sentiment label distribution:\n",
      "label\n",
      "0    164938\n",
      "1    149154\n",
      "Name: count, dtype: int64\n",
      "\n",
      "Splitting data into train and test sets (80/20)...\n",
      "✅ Training samples: 251273, Testing samples: 62819\n"
     ]
    }
   ],
   "source": [
    "# -------- Encode Labels and Split -------- #\n",
    "print(\"\\nEncoding sentiment labels...\")\n",
    "df['label'] = df['sentiment'].map({'positive': 1, 'negative': 0})\n",
    "print(\"✅ Labels encoded: 1 for Positive, 0 for Negative\")\n",
    "\n",
    "print(\"\\nSentiment label distribution:\")\n",
    "print(df['label'].value_counts())\n",
    "\n",
    "print(\"\\nSplitting data into train and test sets (80/20)...\")\n",
    "X_train, X_test, y_train, y_test = train_test_split(\n",
    "    df['clean_text'], df['label'], test_size=0.2, random_state=42\n",
    ")\n",
    "print(f\"✅ Training samples: {len(X_train)}, Testing samples: {len(X_test)}\")\n"
   ]
  },
  {
   "cell_type": "code",
   "execution_count": 9,
   "id": "1b8d177f",
   "metadata": {},
   "outputs": [
    {
     "name": "stdout",
     "output_type": "stream",
     "text": [
      "\n",
      "Vectorizing text...\n",
      "✅ Text vectorized. Feature count: 120074\n"
     ]
    }
   ],
   "source": [
    "# -------- Vectorization -------- #\n",
    "print(\"\\nVectorizing text...\")\n",
    "vectorizer = CountVectorizer()\n",
    "X_train_vec = vectorizer.fit_transform(X_train)\n",
    "X_test_vec = vectorizer.transform(X_test)\n",
    "print(\"✅ Text vectorized. Feature count:\", X_train_vec.shape[1])\n"
   ]
  },
  {
   "cell_type": "code",
   "execution_count": 10,
   "id": "47df8edb",
   "metadata": {},
   "outputs": [
    {
     "name": "stdout",
     "output_type": "stream",
     "text": [
      "\n",
      "Training Logistic Regression model...\n",
      "✅ Model training complete.\n"
     ]
    },
    {
     "name": "stderr",
     "output_type": "stream",
     "text": [
      "c:\\Users\\sujal\\AppData\\Local\\Programs\\Python\\Python311\\Lib\\site-packages\\sklearn\\linear_model\\_logistic.py:469: ConvergenceWarning: lbfgs failed to converge (status=1):\n",
      "STOP: TOTAL NO. of ITERATIONS REACHED LIMIT.\n",
      "\n",
      "Increase the number of iterations (max_iter) or scale the data as shown in:\n",
      "    https://scikit-learn.org/stable/modules/preprocessing.html\n",
      "Please also refer to the documentation for alternative solver options:\n",
      "    https://scikit-learn.org/stable/modules/linear_model.html#logistic-regression\n",
      "  n_iter_i = _check_optimize_result(\n"
     ]
    }
   ],
   "source": [
    "# -------- Train Model -------- #\n",
    "print(\"\\nTraining Logistic Regression model...\")\n",
    "model = LogisticRegression()\n",
    "model.fit(X_train_vec, y_train)\n",
    "print(\"✅ Model training complete.\")\n"
   ]
  },
  {
   "cell_type": "code",
   "execution_count": 12,
   "id": "abdedeb2",
   "metadata": {},
   "outputs": [
    {
     "name": "stdout",
     "output_type": "stream",
     "text": [
      "\n",
      "Predicting on test data...\n",
      "\n",
      "--- Model Evaluation ---\n",
      "Accuracy Score: 0.9444753975707987\n",
      "\n",
      "Classification Report:\n",
      "               precision    recall  f1-score   support\n",
      "\n",
      "           0       0.93      0.97      0.95     33050\n",
      "           1       0.96      0.92      0.94     29769\n",
      "\n",
      "    accuracy                           0.94     62819\n",
      "   macro avg       0.95      0.94      0.94     62819\n",
      "weighted avg       0.95      0.94      0.94     62819\n",
      "\n"
     ]
    }
   ],
   "source": [
    "# -------- Evaluate Model -------- #\n",
    "print(\"\\nPredicting on test data...\")\n",
    "y_pred = model.predict(X_test_vec)\n",
    "\n",
    "print(\"\\n--- Model Evaluation ---\")\n",
    "print(\"Accuracy Score:\", accuracy_score(y_test, y_pred))\n",
    "print(\"\\nClassification Report:\\n\", classification_report(y_test, y_pred))\n"
   ]
  },
  {
   "cell_type": "code",
   "execution_count": 13,
   "id": "ae480801",
   "metadata": {},
   "outputs": [
    {
     "name": "stdout",
     "output_type": "stream",
     "text": [
      "\n",
      "Generating confusion matrix...\n",
      "Confusion Matrix:\n",
      " [[31941  1109]\n",
      " [ 2379 27390]]\n"
     ]
    },
    {
     "data": {
      "image/png": "[encoded data removed]",
      "text/plain": [
       "<Figure size 640x480 with 2 Axes>"
      ]
     },
     "metadata": {},
     "output_type": "display_data"
    },
    {
     "name": "stdout",
     "output_type": "stream",
     "text": [
      "✅ Done. Confusion matrix saved as 'confusion_matrix.png'\n"
     ]
    }
   ],
   "source": [
    "# -------- Confusion Matrix -------- #\n",
    "print(\"\\nGenerating confusion matrix...\")\n",
    "cm = confusion_matrix(y_test, y_pred)\n",
    "print(\"Confusion Matrix:\\n\", cm)\n",
    "\n",
    "sns.heatmap(cm, annot=True, fmt='d', cmap='Blues',\n",
    "            xticklabels=['Negative', 'Positive'],\n",
    "            yticklabels=['Negative', 'Positive'])\n",
    "plt.xlabel('Predicted')\n",
    "plt.ylabel('Actual')\n",
    "plt.title('Confusion Matrix')\n",
    "plt.tight_layout()\n",
    "plt.savefig(\"confusion_matrix.png\")\n",
    "plt.show()\n",
    "\n",
    "print(\"✅ Done. Confusion matrix saved as 'confusion_matrix.png'\")\n"
   ]
  }
 ],
 "metadata": {
  "kernelspec": {
   "display_name": "Python 3",
   "language": "python",
   "name": "python3"
  },
  "language_info": {
   "codemirror_mode": {
    "name": "ipython",
    "version": 3
   },
   "file_extension": ".py",
   "mimetype": "text/x-python",
   "name": "python",
   "nbconvert_exporter": "python",
   "pygments_lexer": "ipython3",
   "version": "3.11.5"
  }
 },
 "nbformat": 4,
 "nbformat_minor": 5
}
